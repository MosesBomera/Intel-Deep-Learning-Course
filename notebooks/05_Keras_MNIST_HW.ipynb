{
 "cells": [
  {
   "cell_type": "markdown",
   "metadata": {},
   "source": [
    "## Handwritten Image Detection with Keras using MNIST data\n",
    "\n",
    "In this exercise we will work with image data: specifically the famous MNIST data set.  This data set contains 70,000 images of handwritten digits in grayscale (0=black, 255 = white).  The images are 28 pixels by 28 pixels for a total of 784 pixels.  This is quite small by image standards.  Also, the images are well centered and isolated.  This makes this problem solvable with standard fully connected neural nets without too much pre-work."
   ]
  },
  {
   "cell_type": "markdown",
   "metadata": {},
   "source": [
    "In the first part of this notebook, we will walk you through loading in the data, building a network, and training it.  Then it will be your turn to try different models and see if you can improve performance"
   ]
  },
  {
   "cell_type": "code",
   "execution_count": 1,
   "metadata": {},
   "outputs": [],
   "source": [
    "from __future__ import print_function\n",
    "import math"
   ]
  },
  {
   "cell_type": "code",
   "execution_count": 2,
   "metadata": {},
   "outputs": [
    {
     "name": "stderr",
     "output_type": "stream",
     "text": [
      "Using TensorFlow backend.\n"
     ]
    }
   ],
   "source": [
    "import keras\n",
    "from keras.datasets import mnist\n",
    "from keras.models import Sequential\n",
    "from keras.layers import Dense, Dropout\n",
    "from keras.optimizers import RMSprop\n",
    "\n",
    "import numpy as np\n",
    "import matplotlib.pyplot as plt\n",
    "%matplotlib inline"
   ]
  },
  {
   "cell_type": "markdown",
   "metadata": {
    "collapsed": true
   },
   "source": [
    "Let's explore the dataset a little bit"
   ]
  },
  {
   "cell_type": "code",
   "execution_count": 5,
   "metadata": {},
   "outputs": [],
   "source": [
    "# Loading data in Keras\n",
    "(x_train, y_train), (x_test, y_test) = mnist.load_data()"
   ]
  },
  {
   "cell_type": "code",
   "execution_count": 19,
   "metadata": {},
   "outputs": [
    {
     "data": {
      "text/plain": [
       "(28, 28)"
      ]
     },
     "execution_count": 19,
     "metadata": {},
     "output_type": "execute_result"
    }
   ],
   "source": [
    "x_train[0].shape"
   ]
  },
  {
   "cell_type": "code",
   "execution_count": 20,
   "metadata": {},
   "outputs": [
    {
     "data": {
      "text/plain": [
       "array([[  0,   0,   0,   0,   0,   0,   0,   0,   0,   0,   0,   0,   0,\n",
       "          0,   0,   0,   0,   0,   0,   0,   0,   0,   0,   0,   0,   0,\n",
       "          0,   0],\n",
       "       [  0,   0,   0,   0,   0,   0,   0,   0,   0,   0,   0,   0,   0,\n",
       "          0,   0,   0,   0,   0,   0,   0,   0,   0,   0,   0,   0,   0,\n",
       "          0,   0],\n",
       "       [  0,   0,   0,   0,   0,   0,   0,   0,   0,   0,   0,   0,   0,\n",
       "          0,   0,   0,   0,   0,   0,   0,   0,   0,   0,   0,   0,   0,\n",
       "          0,   0],\n",
       "       [  0,   0,   0,   0,   0,   0,   0,   0,   0,   0,   0,   0,   0,\n",
       "          0,   0,   0,   0,   0,   0,   0,   0,   0,   0,   0,   0,   0,\n",
       "          0,   0],\n",
       "       [  0,   0,   0,   0,   0,   0,   0,   0,   0,   0,   0,   0,   0,\n",
       "          0,   0,   0,   0,   0,   0,   0,   0,   0,   0,   0,   0,   0,\n",
       "          0,   0],\n",
       "       [  0,   0,   0,   0,   0,   0,   0,   0,   0,   0,   0,  87, 138,\n",
       "        170, 253, 201, 244, 212, 222, 138,  86,  22,   0,   0,   0,   0,\n",
       "          0,   0],\n",
       "       [  0,   0,   0,   0,   0,   0,   0,   0,   0,   0,  95, 253, 252,\n",
       "        252, 252, 252, 253, 252, 252, 252, 252, 245,  80,   0,   0,   0,\n",
       "          0,   0],\n",
       "       [  0,   0,   0,   0,   0,   0,   0,   0,   0,  68, 246, 205,  69,\n",
       "         69,  69,  69,  69,  69,  69,  69, 205, 253, 240,  50,   0,   0,\n",
       "          0,   0],\n",
       "       [  0,   0,   0,   0,   0,   0,   0,   0,   0, 187, 252, 218,  34,\n",
       "          0,   0,   0,   0,   0,   0,   0, 116, 253, 252,  69,   0,   0,\n",
       "          0,   0],\n",
       "       [  0,   0,   0,   0,   0,   0,   0,   0, 116, 248, 252, 253,  92,\n",
       "          0,   0,   0,   0,   0,   0,  95, 230, 253, 157,   6,   0,   0,\n",
       "          0,   0],\n",
       "       [  0,   0,   0,   0,   0,   0,   0,   0, 116, 249, 253, 189,  42,\n",
       "          0,   0,   0,   0,  36, 170, 253, 243, 158,   0,   0,   0,   0,\n",
       "          0,   0],\n",
       "       [  0,   0,   0,   0,   0,   0,   0,   0,   0, 133, 252, 245, 140,\n",
       "         34,   0,   0,  57, 219, 252, 235,  60,   0,   0,   0,   0,   0,\n",
       "          0,   0],\n",
       "       [  0,   0,   0,   0,   0,   0,   0,   0,   0,  25, 205, 253, 252,\n",
       "        234, 184, 184, 253, 240, 100,  44,   0,   0,   0,   0,   0,   0,\n",
       "          0,   0],\n",
       "       [  0,   0,   0,   0,   0,   0,   0,   0,   0,   0,  21, 161, 219,\n",
       "        252, 252, 252, 234,  37,   0,   0,   0,   0,   0,   0,   0,   0,\n",
       "          0,   0],\n",
       "       [  0,   0,   0,   0,   0,   0,   0,   0,   0,   0,   0,  11, 203,\n",
       "        252, 252, 252, 251, 135,   0,   0,   0,   0,   0,   0,   0,   0,\n",
       "          0,   0],\n",
       "       [  0,   0,   0,   0,   0,   0,   0,   0,   0,   9,  76, 255, 253,\n",
       "        205, 168, 220, 255, 253, 137,   5,   0,   0,   0,   0,   0,   0,\n",
       "          0,   0],\n",
       "       [  0,   0,   0,   0,   0,   0,   0,   0,   0, 114, 252, 249, 132,\n",
       "         25,   0,   0, 180, 252, 252,  45,   0,   0,   0,   0,   0,   0,\n",
       "          0,   0],\n",
       "       [  0,   0,   0,   0,   0,   0,   0,   0,  51, 220, 252, 199,   0,\n",
       "          0,   0,   0,  38, 186, 252, 154,   7,   0,   0,   0,   0,   0,\n",
       "          0,   0],\n",
       "       [  0,   0,   0,   0,   0,   0,   0,   0, 184, 252, 252,  21,   0,\n",
       "          0,   0,   0,   0,  67, 252, 252,  22,   0,   0,   0,   0,   0,\n",
       "          0,   0],\n",
       "       [  0,   0,   0,   0,   0,   0,   0,   0, 184, 252, 200,   0,   0,\n",
       "          0,   0,   0,   0,  47, 252, 252,  22,   0,   0,   0,   0,   0,\n",
       "          0,   0],\n",
       "       [  0,   0,   0,   0,   0,   0,   0,   0, 185, 253, 201,   0,   0,\n",
       "          0,   0,   0,   3, 118, 253, 245,  21,   0,   0,   0,   0,   0,\n",
       "          0,   0],\n",
       "       [  0,   0,   0,   0,   0,   0,   0,   0, 163, 252, 252,   0,   0,\n",
       "          0,   0,   0,  97, 252, 252,  87,   0,   0,   0,   0,   0,   0,\n",
       "          0,   0],\n",
       "       [  0,   0,   0,   0,   0,   0,   0,   0,  51, 240, 252, 123,  70,\n",
       "         70, 112, 184, 222, 252, 170,  13,   0,   0,   0,   0,   0,   0,\n",
       "          0,   0],\n",
       "       [  0,   0,   0,   0,   0,   0,   0,   0,   0, 165, 252, 253, 252,\n",
       "        252, 252, 252, 245, 139,  13,   0,   0,   0,   0,   0,   0,   0,\n",
       "          0,   0],\n",
       "       [  0,   0,   0,   0,   0,   0,   0,   0,   0,   9,  75, 253, 252,\n",
       "        221, 137, 137,  21,   0,   0,   0,   0,   0,   0,   0,   0,   0,\n",
       "          0,   0],\n",
       "       [  0,   0,   0,   0,   0,   0,   0,   0,   0,   0,   0,   0,   0,\n",
       "          0,   0,   0,   0,   0,   0,   0,   0,   0,   0,   0,   0,   0,\n",
       "          0,   0],\n",
       "       [  0,   0,   0,   0,   0,   0,   0,   0,   0,   0,   0,   0,   0,\n",
       "          0,   0,   0,   0,   0,   0,   0,   0,   0,   0,   0,   0,   0,\n",
       "          0,   0],\n",
       "       [  0,   0,   0,   0,   0,   0,   0,   0,   0,   0,   0,   0,   0,\n",
       "          0,   0,   0,   0,   0,   0,   0,   0,   0,   0,   0,   0,   0,\n",
       "          0,   0]], dtype=uint8)"
      ]
     },
     "execution_count": 20,
     "metadata": {},
     "output_type": "execute_result"
    }
   ],
   "source": [
    "#Let's just look at a particular example to see what is inside\n",
    "\n",
    "x_train[333]  ## Just a 28 x 28 numpy array of ints from 0 to 255"
   ]
  },
  {
   "cell_type": "code",
   "execution_count": 24,
   "metadata": {},
   "outputs": [
    {
     "data": {
      "text/plain": [
       "8"
      ]
     },
     "execution_count": 24,
     "metadata": {},
     "output_type": "execute_result"
    }
   ],
   "source": [
    "# What is the corresponding label in the training set?\n",
    "y_train[333]"
   ]
  },
  {
   "cell_type": "code",
   "execution_count": 26,
   "metadata": {},
   "outputs": [
    {
     "data": {
      "text/plain": [
       "<matplotlib.image.AxesImage at 0x7fbc312ff198>"
      ]
     },
     "execution_count": 26,
     "metadata": {},
     "output_type": "execute_result"
    },
    {
     "data": {
      "image/png": "[encoded data removed]",
      "text/plain": [
       "<Figure size 432x288 with 1 Axes>"
      ]
     },
     "metadata": {
      "needs_background": "light"
     },
     "output_type": "display_data"
    }
   ],
   "source": [
    "# Displaying an image.\n",
    "plt.imshow(x_train[333], cmap='Greys_r')"
   ]
  },
  {
   "cell_type": "code",
   "execution_count": 27,
   "metadata": {},
   "outputs": [
    {
     "name": "stdout",
     "output_type": "stream",
     "text": [
      "(60000, 28, 28) train samples\n",
      "(10000, 28, 28) test samples\n"
     ]
    }
   ],
   "source": [
    "# this is the shape of the np.array x_train\n",
    "# it is 3 dimensional.\n",
    "print(x_train.shape, 'train samples')\n",
    "print(x_test.shape, 'test samples')"
   ]
  },
  {
   "cell_type": "code",
   "execution_count": 34,
   "metadata": {},
   "outputs": [
    {
     "data": {
      "text/plain": [
       "(60000, 28, 28)"
      ]
     },
     "execution_count": 34,
     "metadata": {},
     "output_type": "execute_result"
    }
   ],
   "source": [
    "x_train.shape"
   ]
  },
  {
   "cell_type": "code",
   "execution_count": 36,
   "metadata": {},
   "outputs": [],
   "source": [
    "## For our purposes, these images are just a vector of 784 inputs, so let's convert\n",
    "x_train = x_train.reshape(len(x_train), 28*28)\n",
    "x_test = x_test.reshape(len(x_test), 28*28)\n",
    "\n",
    "# Keras works with only floating points\n",
    "x_train = x_train.astype('float32')\n",
    "x_test = x_test.astype('float32')\n",
    "\n",
    "# Normalize the data\n",
    "x_train /= 255\n",
    "x_test /= 255"
   ]
  },
  {
   "cell_type": "code",
   "execution_count": 39,
   "metadata": {},
   "outputs": [
    {
     "data": {
      "text/plain": [
       "numpy.ndarray"
      ]
     },
     "execution_count": 39,
     "metadata": {},
     "output_type": "execute_result"
    }
   ],
   "source": [
    "type(y_train)"
   ]
  },
  {
   "cell_type": "code",
   "execution_count": 40,
   "metadata": {},
   "outputs": [],
   "source": [
    "# Generate a binary matrix for the labels\n",
    "num_classes = 10\n",
    "\n",
    "y_train = keras.utils.to_categorical(y_train, num_classes)\n",
    "y_test = keras.utils.to_categorical(y_test, num_classes)"
   ]
  },
  {
   "cell_type": "code",
   "execution_count": 41,
   "metadata": {},
   "outputs": [
    {
     "data": {
      "text/plain": [
       "array([0., 0., 0., 0., 0., 0., 0., 0., 1., 0.], dtype=float32)"
      ]
     },
     "execution_count": 41,
     "metadata": {},
     "output_type": "execute_result"
    }
   ],
   "source": [
    "y_train[333]"
   ]
  },
  {
   "cell_type": "code",
   "execution_count": 42,
   "metadata": {},
   "outputs": [],
   "source": [
    "# We will build a model with two hidden layers of size 512\n",
    "# Fully connected inputs at each layer\n",
    "# We will use dropout of .2 to help regularize\n",
    "\n",
    "model_1 = Sequential()\n",
    "model_1.add(Dense(64, input_shape=(784,), activation='relu')) # First Layer\n",
    "model_1.add(Dropout(0.2))\n",
    "model_1.add(Dense(64, activation='relu')) # Second layer\n",
    "model_1.add(Dropout(0.2))\n",
    "model_1.add(Dense(10, activation='softmax'))"
   ]
  },
  {
   "cell_type": "code",
   "execution_count": 43,
   "metadata": {},
   "outputs": [
    {
     "name": "stdout",
     "output_type": "stream",
     "text": [
      "_________________________________________________________________\n",
      "Layer (type)                 Output Shape              Param #   \n",
      "=================================================================\n",
      "dense_1 (Dense)              (None, 64)                50240     \n",
      "_________________________________________________________________\n",
      "dropout_1 (Dropout)          (None, 64)                0         \n",
      "_________________________________________________________________\n",
      "dense_2 (Dense)              (None, 64)                4160      \n",
      "_________________________________________________________________\n",
      "dropout_2 (Dropout)          (None, 64)                0         \n",
      "_________________________________________________________________\n",
      "dense_3 (Dense)              (None, 10)                650       \n",
      "=================================================================\n",
      "Total params: 55,050\n",
      "Trainable params: 55,050\n",
      "Non-trainable params: 0\n",
      "_________________________________________________________________\n"
     ]
    }
   ],
   "source": [
    "## Note that this model has a LOT of parameters\n",
    "model_1.summary()"
   ]
  },
  {
   "cell_type": "code",
   "execution_count": 45,
   "metadata": {},
   "outputs": [],
   "source": [
    "# Let's compile the model\n",
    "learning_rate = 0.001\n",
    "model_1.compile(loss='categorical_crossentropy',\n",
    "               optimizer=RMSprop(lr=learning_rate),\n",
    "               metrics=['accuracy'])\n",
    "# note that `categorical cross entropy` is the natural generalization \n",
    "# of the loss function we had in binary classification case, to multi class case"
   ]
  },
  {
   "cell_type": "code",
   "execution_count": 49,
   "metadata": {},
   "outputs": [
    {
     "name": "stdout",
     "output_type": "stream",
     "text": [
      "Train on 60000 samples, validate on 10000 samples\n",
      "Epoch 1/30\n",
      "60000/60000 [==============================] - 4s 62us/step - loss: 1.6874 - acc: 0.4762 - val_loss: 0.9804 - val_acc: 0.7092\n",
      "Epoch 2/30\n",
      "60000/60000 [==============================] - 2s 35us/step - loss: 0.8995 - acc: 0.6982 - val_loss: 0.6675 - val_acc: 0.8003\n",
      "Epoch 3/30\n",
      "60000/60000 [==============================] - 2s 35us/step - loss: 0.6912 - acc: 0.7790 - val_loss: 0.5197 - val_acc: 0.8488\n",
      "Epoch 4/30\n",
      "60000/60000 [==============================] - 2s 34us/step - loss: 0.5603 - acc: 0.8297 - val_loss: 0.4202 - val_acc: 0.8766\n",
      "Epoch 5/30\n",
      "60000/60000 [==============================] - 2s 35us/step - loss: 0.4775 - acc: 0.8568 - val_loss: 0.3635 - val_acc: 0.8940\n",
      "Epoch 6/30\n",
      "60000/60000 [==============================] - 2s 35us/step - loss: 0.4294 - acc: 0.8724 - val_loss: 0.3318 - val_acc: 0.9038\n",
      "Epoch 7/30\n",
      "60000/60000 [==============================] - 2s 35us/step - loss: 0.3904 - acc: 0.8831 - val_loss: 0.3020 - val_acc: 0.9110\n",
      "Epoch 8/30\n",
      "60000/60000 [==============================] - 2s 36us/step - loss: 0.3622 - acc: 0.8923 - val_loss: 0.2803 - val_acc: 0.9182\n",
      "Epoch 9/30\n",
      "60000/60000 [==============================] - 2s 35us/step - loss: 0.3379 - acc: 0.8997 - val_loss: 0.2645 - val_acc: 0.9215\n",
      "Epoch 10/30\n",
      "60000/60000 [==============================] - 2s 35us/step - loss: 0.3194 - acc: 0.9054 - val_loss: 0.2464 - val_acc: 0.9257\n",
      "Epoch 11/30\n",
      "60000/60000 [==============================] - 2s 35us/step - loss: 0.3053 - acc: 0.9100 - val_loss: 0.2339 - val_acc: 0.9285\n",
      "Epoch 12/30\n",
      "60000/60000 [==============================] - 2s 36us/step - loss: 0.2913 - acc: 0.9131 - val_loss: 0.2231 - val_acc: 0.9329\n",
      "Epoch 13/30\n",
      "60000/60000 [==============================] - 2s 39us/step - loss: 0.2792 - acc: 0.9183 - val_loss: 0.2145 - val_acc: 0.9363\n",
      "Epoch 14/30\n",
      "60000/60000 [==============================] - 2s 40us/step - loss: 0.2689 - acc: 0.9194 - val_loss: 0.2071 - val_acc: 0.9375\n",
      "Epoch 15/30\n",
      "60000/60000 [==============================] - 2s 38us/step - loss: 0.2584 - acc: 0.9236 - val_loss: 0.1985 - val_acc: 0.9411\n",
      "Epoch 16/30\n",
      "60000/60000 [==============================] - 2s 36us/step - loss: 0.2498 - acc: 0.9262 - val_loss: 0.1916 - val_acc: 0.9434\n",
      "Epoch 17/30\n",
      "60000/60000 [==============================] - 2s 41us/step - loss: 0.2423 - acc: 0.9282 - val_loss: 0.1864 - val_acc: 0.9451\n",
      "Epoch 18/30\n",
      "60000/60000 [==============================] - 3s 44us/step - loss: 0.2356 - acc: 0.9300 - val_loss: 0.1812 - val_acc: 0.9441\n",
      "Epoch 19/30\n",
      "60000/60000 [==============================] - 2s 41us/step - loss: 0.2316 - acc: 0.9322 - val_loss: 0.1768 - val_acc: 0.9469\n",
      "Epoch 20/30\n",
      "60000/60000 [==============================] - 2s 36us/step - loss: 0.2252 - acc: 0.9338 - val_loss: 0.1702 - val_acc: 0.9485\n",
      "Epoch 21/30\n",
      "60000/60000 [==============================] - 2s 36us/step - loss: 0.2205 - acc: 0.9342 - val_loss: 0.1712 - val_acc: 0.9495\n",
      "Epoch 22/30\n",
      "60000/60000 [==============================] - 2s 37us/step - loss: 0.2150 - acc: 0.9357 - val_loss: 0.1652 - val_acc: 0.9512\n",
      "Epoch 23/30\n",
      "60000/60000 [==============================] - 2s 39us/step - loss: 0.2091 - acc: 0.9371 - val_loss: 0.1578 - val_acc: 0.9537\n",
      "Epoch 24/30\n",
      "60000/60000 [==============================] - 2s 38us/step - loss: 0.2063 - acc: 0.9383 - val_loss: 0.1559 - val_acc: 0.9533\n",
      "Epoch 25/30\n",
      "60000/60000 [==============================] - 2s 40us/step - loss: 0.2022 - acc: 0.9400 - val_loss: 0.1548 - val_acc: 0.9538\n",
      "Epoch 26/30\n",
      "60000/60000 [==============================] - 2s 36us/step - loss: 0.1986 - acc: 0.9414 - val_loss: 0.1501 - val_acc: 0.9557\n",
      "Epoch 27/30\n",
      "60000/60000 [==============================] - 2s 39us/step - loss: 0.1927 - acc: 0.9426 - val_loss: 0.1502 - val_acc: 0.9562\n",
      "Epoch 28/30\n",
      "60000/60000 [==============================] - 2s 39us/step - loss: 0.1913 - acc: 0.9442 - val_loss: 0.1489 - val_acc: 0.9551\n",
      "Epoch 29/30\n",
      "60000/60000 [==============================] - 2s 34us/step - loss: 0.1905 - acc: 0.9440 - val_loss: 0.1441 - val_acc: 0.9580\n",
      "Epoch 30/30\n",
      "60000/60000 [==============================] - 2s 40us/step - loss: 0.1861 - acc: 0.9444 - val_loss: 0.1461 - val_acc: 0.9570\n"
     ]
    }
   ],
   "source": [
    "batch_size = 128\n",
    "epochs = 30\n",
    "history = model_1.fit(\n",
    "    x_train, y_train,\n",
    "    batch_size=batch_size,\n",
    "    validation_data=(x_test, y_test),\n",
    "    epochs=epochs,\n",
    "    verbose=1\n",
    ")"
   ]
  },
  {
   "cell_type": "code",
   "execution_count": 50,
   "metadata": {},
   "outputs": [
    {
     "name": "stdout",
     "output_type": "stream",
     "text": [
      "Test loss: 0.1460891460020095\n",
      "Test accuracy: 0.957\n"
     ]
    }
   ],
   "source": [
    "## We will use Keras evaluate function to evaluate performance on the test set\n",
    "\n",
    "score = model_1.evaluate(x_test, y_test, verbose=0)\n",
    "print('Test loss:', score[0])\n",
    "print('Test accuracy:', score[1])"
   ]
  },
  {
   "cell_type": "code",
   "execution_count": 51,
   "metadata": {},
   "outputs": [
    {
     "data": {
      "image/png": "[encoded data removed]",
      "text/plain": [
       "<Figure size 864x432 with 2 Axes>"
      ]
     },
     "metadata": {
      "needs_background": "light"
     },
     "output_type": "display_data"
    }
   ],
   "source": [
    "def plot_loss_accuracy(history):\n",
    "    fig = plt.figure(figsize=(12, 6))\n",
    "    ax = fig.add_subplot(1, 2, 1)\n",
    "    ax.plot(history.history[\"loss\"],'r-x', label=\"Train Loss\")\n",
    "    ax.plot(history.history[\"val_loss\"],'b-x', label=\"Validation Loss\")\n",
    "    ax.legend()\n",
    "    ax.set_title('cross_entropy loss')\n",
    "    ax.grid(True)\n",
    "\n",
    "\n",
    "    ax = fig.add_subplot(1, 2, 2)\n",
    "    ax.plot(history.history[\"acc\"],'r-x', label=\"Train Accuracy\")\n",
    "    ax.plot(history.history[\"val_acc\"],'b-x', label=\"Validation Accuracy\")\n",
    "    ax.legend()\n",
    "    ax.set_title('accuracy')\n",
    "    ax.grid(True)\n",
    "    \n",
    "\n",
    "plot_loss_accuracy(history)"
   ]
  },
  {
   "cell_type": "markdown",
   "metadata": {},
   "source": [
    "This is reasonably good performance, but we can do even better!  Next you will build an even bigger network and compare the performance."
   ]
  },
  {
   "cell_type": "markdown",
   "metadata": {},
   "source": [
    "## Exercise\n",
    "### Your Turn: Build your own model\n",
    "Use the Keras \"Sequential\" functionality to build `model_2` with the following specifications:\n",
    "\n",
    "1. Two hidden layers.\n",
    "2. First hidden layer of size 400 and second of size 300\n",
    "3. Dropout of .4 at each layer\n",
    "4. How many parameters does your model have?  How does it compare with the previous model?\n",
    "4. Train this model for 20 epochs with RMSProp at a learning rate of .001 and a batch size of 128\n",
    "\n",
    "\n"
   ]
  },
  {
   "cell_type": "code",
   "execution_count": null,
   "metadata": {
    "collapsed": true
   },
   "outputs": [],
   "source": [
    "### Build your model here\n",
    "from keras.models import Sequential\n",
    "from keras.layers import Dense, Dropout\n",
    "from keras.optimizers import RMSprop"
   ]
  },
  {
   "cell_type": "code",
   "execution_count": 95,
   "metadata": {},
   "outputs": [],
   "source": [
    "## My model\n",
    "model_2 = Sequential([\n",
    "    Dense(400, input_shape=(784,), activation='relu'),\n",
    "    Dropout(0.4),\n",
    "    Dense(300, activation='relu'),\n",
    "    Dropout(0.4),\n",
    "    Dense(10, activation='softmax')\n",
    "])"
   ]
  },
  {
   "cell_type": "code",
   "execution_count": 96,
   "metadata": {},
   "outputs": [
    {
     "name": "stdout",
     "output_type": "stream",
     "text": [
      "_________________________________________________________________\n",
      "Layer (type)                 Output Shape              Param #   \n",
      "=================================================================\n",
      "dense_22 (Dense)             (None, 400)               314000    \n",
      "_________________________________________________________________\n",
      "dropout_15 (Dropout)         (None, 400)               0         \n",
      "_________________________________________________________________\n",
      "dense_23 (Dense)             (None, 300)               120300    \n",
      "_________________________________________________________________\n",
      "dropout_16 (Dropout)         (None, 300)               0         \n",
      "_________________________________________________________________\n",
      "dense_24 (Dense)             (None, 10)                3010      \n",
      "=================================================================\n",
      "Total params: 437,310\n",
      "Trainable params: 437,310\n",
      "Non-trainable params: 0\n",
      "_________________________________________________________________\n"
     ]
    }
   ],
   "source": [
    "model_2.summary()"
   ]
  },
  {
   "cell_type": "markdown",
   "metadata": {},
   "source": [
    "## SOLUTION"
   ]
  },
  {
   "cell_type": "code",
   "execution_count": 97,
   "metadata": {},
   "outputs": [],
   "source": [
    "model_2.compile(\n",
    "    optimizer  = RMSprop(lr=0.001),\n",
    "    loss       = 'categorical_crossentropy',\n",
    "    metrics    = ['accuracy'],\n",
    "    \n",
    ")"
   ]
  },
  {
   "cell_type": "code",
   "execution_count": 100,
   "metadata": {},
   "outputs": [
    {
     "name": "stdout",
     "output_type": "stream",
     "text": [
      "Train on 60000 samples, validate on 10000 samples\n",
      "Epoch 1/20\n",
      "60000/60000 [==============================] - 8s 125us/step - loss: 0.0795 - acc: 0.9775 - val_loss: 0.0858 - val_acc: 0.9790\n",
      "Epoch 2/20\n",
      "60000/60000 [==============================] - 8s 126us/step - loss: 0.0764 - acc: 0.9784 - val_loss: 0.0936 - val_acc: 0.9771\n",
      "Epoch 3/20\n",
      "60000/60000 [==============================] - 8s 128us/step - loss: 0.0782 - acc: 0.9789 - val_loss: 0.0884 - val_acc: 0.9789\n",
      "Epoch 4/20\n",
      "60000/60000 [==============================] - 8s 126us/step - loss: 0.0751 - acc: 0.9786 - val_loss: 0.0863 - val_acc: 0.9795\n",
      "Epoch 5/20\n",
      "60000/60000 [==============================] - 8s 131us/step - loss: 0.0748 - acc: 0.9790 - val_loss: 0.0844 - val_acc: 0.9795\n",
      "Epoch 6/20\n",
      "60000/60000 [==============================] - 8s 131us/step - loss: 0.0740 - acc: 0.9794 - val_loss: 0.0916 - val_acc: 0.9784\n",
      "Epoch 7/20\n",
      "60000/60000 [==============================] - 8s 133us/step - loss: 0.0744 - acc: 0.9797 - val_loss: 0.0917 - val_acc: 0.9784\n",
      "Epoch 8/20\n",
      "60000/60000 [==============================] - 8s 133us/step - loss: 0.0731 - acc: 0.9798 - val_loss: 0.0840 - val_acc: 0.9793\n",
      "Epoch 9/20\n",
      "60000/60000 [==============================] - 8s 134us/step - loss: 0.0706 - acc: 0.9798 - val_loss: 0.0848 - val_acc: 0.9803\n",
      "Epoch 10/20\n",
      "60000/60000 [==============================] - 8s 127us/step - loss: 0.0710 - acc: 0.9801 - val_loss: 0.0889 - val_acc: 0.9781\n",
      "Epoch 11/20\n",
      "60000/60000 [==============================] - 8s 128us/step - loss: 0.0698 - acc: 0.9805 - val_loss: 0.0842 - val_acc: 0.9799\n",
      "Epoch 12/20\n",
      "60000/60000 [==============================] - 8s 128us/step - loss: 0.0695 - acc: 0.9804 - val_loss: 0.0935 - val_acc: 0.9792\n",
      "Epoch 13/20\n",
      "60000/60000 [==============================] - 8s 129us/step - loss: 0.0696 - acc: 0.9809 - val_loss: 0.0854 - val_acc: 0.9802\n",
      "Epoch 14/20\n",
      "60000/60000 [==============================] - 8s 128us/step - loss: 0.0664 - acc: 0.9823 - val_loss: 0.0849 - val_acc: 0.9802\n",
      "Epoch 15/20\n",
      "60000/60000 [==============================] - 8s 128us/step - loss: 0.0656 - acc: 0.9821 - val_loss: 0.0928 - val_acc: 0.9791\n",
      "Epoch 16/20\n",
      "60000/60000 [==============================] - 8s 129us/step - loss: 0.0670 - acc: 0.9819 - val_loss: 0.0936 - val_acc: 0.9788\n",
      "Epoch 17/20\n",
      "60000/60000 [==============================] - 8s 131us/step - loss: 0.0649 - acc: 0.9818 - val_loss: 0.0823 - val_acc: 0.9812\n",
      "Epoch 18/20\n",
      "60000/60000 [==============================] - 8s 135us/step - loss: 0.0656 - acc: 0.9821 - val_loss: 0.0899 - val_acc: 0.9796\n",
      "Epoch 19/20\n",
      "60000/60000 [==============================] - 8s 135us/step - loss: 0.0642 - acc: 0.9823 - val_loss: 0.0882 - val_acc: 0.9809\n",
      "Epoch 20/20\n",
      "60000/60000 [==============================] - 8s 136us/step - loss: 0.0629 - acc: 0.9829 - val_loss: 0.0909 - val_acc: 0.9797\n"
     ]
    }
   ],
   "source": [
    "batch_size = 128\n",
    "epochs     = 20\n",
    "history_2  = model_2.fit(\n",
    "    x_train, y_train,\n",
    "    validation_data=(x_test, y_test),\n",
    "    batch_size = batch_size,\n",
    "    verbose=1,\n",
    "    epochs=epochs\n",
    ")"
   ]
  },
  {
   "cell_type": "code",
   "execution_count": 101,
   "metadata": {},
   "outputs": [
    {
     "name": "stdout",
     "output_type": "stream",
     "text": [
      "Test Loss:  0.09094608470138774\n",
      "Accuracy:   0.9797\n"
     ]
    }
   ],
   "source": [
    "score_2 = model_2.evaluate(x_test, y_test, verbose=0)\n",
    "print('Test Loss: ', score_2[0])\n",
    "print('Accuracy:  ', score_2[1])"
   ]
  },
  {
   "cell_type": "markdown",
   "metadata": {
    "collapsed": true
   },
   "source": [
    "## Think about the following questions\n",
    "\n",
    "1) How do model_1 and model_2 compare?  Which do you prefer?  If you were going to put one into production, which would you choose and why?\n",
    "\n",
    "2) Compare the trajectories of the loss function on the training set and test set for each model?  How do they compare?  What does that suggest about each model?  Do the same for accuracy?  Which do you think is more meaningful, the loss or the accuracy?\n",
    "\n",
    "3) Suggest an improvement to one of the models (changing structure, learning rate, number of epochs, etc.) that you think will result in a better model.  Try it out below?  Did it improve the performance?"
   ]
  },
  {
   "cell_type": "code",
   "execution_count": null,
   "metadata": {
    "collapsed": true
   },
   "outputs": [],
   "source": []
  },
  {
   "cell_type": "code",
   "execution_count": null,
   "metadata": {
    "collapsed": true
   },
   "outputs": [],
   "source": []
  },
  {
   "cell_type": "code",
   "execution_count": null,
   "metadata": {
    "collapsed": true
   },
   "outputs": [],
   "source": []
  }
 ],
 "metadata": {
  "kernelspec": {
   "display_name": "Python 3",
   "language": "python",
   "name": "python3"
  },
  "language_info": {
   "codemirror_mode": {
    "name": "ipython",
    "version": 3
   },
   "file_extension": ".py",
   "mimetype": "text/x-python",
   "name": "python",
   "nbconvert_exporter": "python",
   "pygments_lexer": "ipython3",
   "version": "3.6.8"
  }
 },
 "nbformat": 4,
 "nbformat_minor": 1
}

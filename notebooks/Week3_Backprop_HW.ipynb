{
 "cells": [
  {
   "cell_type": "markdown",
   "metadata": {},
   "source": [
    "## Backpropagation Exercise\n",
    "In this exercise we will use backpropagation to train a multi-layer perceptron (with a single hidden layer).  We will experiment with different patterns and see how quickly or slowly the weights converge.  We will see the impact and interplay of different parameters such as learning rate, number of iterations, and number of data points."
   ]
  },
  {
   "cell_type": "code",
   "execution_count": 16,
   "metadata": {},
   "outputs": [],
   "source": [
    "#Preliminaries\n",
    "from __future__ import division, print_function\n",
    "import numpy as np\n",
    "import matplotlib.pyplot as plt\n",
    "%matplotlib inline"
   ]
  },
  {
   "cell_type": "markdown",
   "metadata": {},
   "source": [
    "Fill out the code below so that it creates a multi-layer perceptron with a single hidden layer (with 4 nodes) and trains it via back-propagation.  Specifically your code should:\n",
    "\n",
    "1. Initialize the weights to random values between -1 and 1\n",
    "1. Perform the feed-forward computation\n",
    "1. Compute the loss function\n",
    "1. Calculate the gradients for all the weights via back-propagation\n",
    "1. Update the weight matrices (using a learning_rate parameter)\n",
    "1. Execute steps 2-5 for a fixed number of iterations\n",
    "1. Plot the accuracies and log loss and observe how they change over time\n",
    "\n",
    "\n",
    "Once your code is running, try it for the different patterns below.\n",
    "\n",
    "- Which patterns was the neural network able to learn quickly and which took longer?\n",
    "- What learning rates and numbers of iterations worked well?\n",
    "- If you have time, try varying the size of the hidden layer and experiment with different activation functions (e.g. ReLu)"
   ]
  },
  {
   "cell_type": "code",
   "execution_count": 17,
   "metadata": {},
   "outputs": [],
   "source": [
    "num_obs = 500\n",
    "x_mat_1 = np.random.uniform(-1,1,size=(num_obs,2))\n",
    "x_mat_bias = np.ones((num_obs,1))\n",
    "x_mat_full = np.concatenate((x_mat_1,x_mat_bias), axis=1)"
   ]
  },
  {
   "cell_type": "code",
   "execution_count": 18,
   "metadata": {},
   "outputs": [],
   "source": [
    "# Diamond Pattern\n",
    "y = ((np.abs(x_mat_full[:,0]) + np.abs(x_mat_full[:,1]))<1).astype(int)"
   ]
  },
  {
   "cell_type": "code",
   "execution_count": 19,
   "metadata": {},
   "outputs": [
    {
     "data": {
      "text/plain": [
       "array([[ 0.99418856, -0.75357092,  1.        ],\n",
       "       [-0.75832505, -0.47211473,  1.        ],\n",
       "       [ 0.62879649, -0.08697439,  1.        ],\n",
       "       ...,\n",
       "       [-0.6942412 , -0.96299794,  1.        ],\n",
       "       [-0.07216877, -0.74667002,  1.        ],\n",
       "       [ 0.5686703 ,  0.08197889,  1.        ]])"
      ]
     },
     "execution_count": 19,
     "metadata": {},
     "output_type": "execute_result"
    }
   ],
   "source": [
    "x_mat_full"
   ]
  },
  {
   "cell_type": "code",
   "execution_count": 20,
   "metadata": {},
   "outputs": [
    {
     "data": {
      "text/plain": [
       "array([ 6.28796487e-01, -1.92290347e-02,  8.35997775e-02, -6.46854715e-01,\n",
       "       -5.02739989e-01, -1.39112471e-01, -1.89999331e-01,  5.93408294e-01,\n",
       "       -2.81527665e-01,  5.63531755e-01,  5.21422838e-01,  2.97373526e-01,\n",
       "        3.62694167e-01, -2.37022011e-01,  4.44098823e-01, -4.02177580e-01,\n",
       "        6.48917212e-01, -2.26814546e-01, -6.61807897e-01, -4.33341175e-01,\n",
       "        8.31353350e-02, -8.38858773e-01,  1.13892591e-01,  5.05042050e-01,\n",
       "        8.20072597e-02, -1.08699559e-01,  5.65912010e-01, -6.34332930e-01,\n",
       "       -6.41010149e-01,  1.56166782e-01,  4.50715382e-01, -4.83928195e-01,\n",
       "       -2.88507263e-01, -8.11571964e-01, -2.88828133e-01, -6.38821604e-01,\n",
       "        7.05909591e-01,  1.60087679e-01, -3.32228540e-01,  7.08415872e-01,\n",
       "        1.60099624e-01,  2.67223919e-01,  7.49346214e-01,  1.74881816e-01,\n",
       "       -4.78935679e-01,  2.07971040e-01, -5.84798161e-01, -6.92309582e-01,\n",
       "       -5.64595153e-02, -6.06108354e-01,  1.97733616e-01, -6.22480808e-01,\n",
       "        5.22883153e-01,  2.46542300e-01,  4.27276803e-01,  7.32947683e-03,\n",
       "       -6.87974144e-01, -1.27308317e-01,  3.68860827e-01, -1.03546137e-01,\n",
       "        4.03794130e-01,  4.90577475e-01, -1.90043986e-01, -5.42872223e-01,\n",
       "        5.80801282e-02,  1.50582282e-01, -2.69102575e-01,  5.68292559e-01,\n",
       "       -1.38612074e-01, -5.55452074e-01, -3.80953094e-01, -3.72705289e-01,\n",
       "       -5.60546230e-01,  3.45405692e-01,  9.62655569e-02, -2.96490583e-01,\n",
       "       -6.77392580e-02,  4.64672799e-01,  2.55695965e-01,  4.80894809e-01,\n",
       "       -2.50634149e-01, -1.82500987e-01,  1.03945416e-01,  4.22669455e-01,\n",
       "        4.49576322e-01, -8.63503501e-01, -6.69140692e-01, -2.60936403e-01,\n",
       "        4.67630085e-01,  2.46355198e-01,  1.75734092e-01,  5.20026057e-02,\n",
       "       -3.46987788e-01,  2.52530327e-01,  1.59187002e-01,  1.31467814e-01,\n",
       "       -3.58222049e-01,  9.25307572e-02,  1.12093893e-01,  2.59032536e-01,\n",
       "       -1.29983169e-01,  5.34067033e-01,  8.56649098e-01,  1.03318771e-01,\n",
       "        4.02470334e-02, -2.73085773e-01, -4.75582311e-01, -4.79165948e-01,\n",
       "        4.03426539e-03, -1.00810891e-02,  8.70371689e-01,  1.78769149e-01,\n",
       "       -6.43157727e-01,  6.18915141e-02,  2.22313209e-01, -7.38214807e-02,\n",
       "       -4.50472791e-02, -2.81722103e-01,  3.49085823e-01,  1.58153719e-01,\n",
       "       -6.22025321e-02, -3.91372122e-01,  4.81461637e-02,  2.53739756e-01,\n",
       "       -1.04183821e-01, -1.16738541e-01,  1.43224180e-01, -3.75761982e-01,\n",
       "       -6.15941073e-01,  9.27831236e-02, -8.67251520e-01, -4.78307511e-02,\n",
       "        2.62888921e-01,  1.45175067e-01, -7.98070579e-01,  6.48923553e-01,\n",
       "       -5.13677813e-02,  5.91520937e-01,  8.19070660e-01,  1.04496139e-01,\n",
       "        4.05255105e-01,  4.74493151e-01,  3.08342242e-01, -2.17258636e-01,\n",
       "        2.84396827e-01,  2.58629178e-01, -1.37250399e-01, -5.05493353e-01,\n",
       "        5.46399126e-02,  4.55833816e-01,  4.19696684e-01, -6.40386898e-01,\n",
       "        6.86298332e-01,  8.75621725e-01,  1.29593636e-01,  2.85672959e-01,\n",
       "       -1.82198363e-01, -7.76529651e-02, -2.80988939e-01, -1.32068148e-01,\n",
       "       -8.48074817e-01,  1.58732806e-01,  3.29305559e-01, -8.84496097e-01,\n",
       "       -4.32813581e-01, -2.13088265e-01, -3.26683425e-01,  5.85379478e-01,\n",
       "        1.51303225e-01, -4.14766459e-02, -4.85431904e-01, -2.04094575e-02,\n",
       "       -6.69989134e-01, -7.58288718e-01, -4.93418688e-01,  6.06214354e-01,\n",
       "        2.64770563e-01, -1.81754539e-02, -1.56309655e-01,  7.95001440e-01,\n",
       "        5.28987168e-01,  8.78903846e-02,  1.99234009e-01, -3.51779133e-01,\n",
       "       -7.77792697e-01, -8.53444052e-01, -3.66363672e-01, -1.19427315e-01,\n",
       "       -6.75149376e-01,  4.75809248e-01, -1.56474084e-01, -7.43644465e-01,\n",
       "       -1.93505900e-01, -9.56851179e-02, -2.32933401e-01, -4.30472876e-01,\n",
       "        6.11102226e-01, -2.61943259e-01, -2.68351141e-02,  5.06825882e-02,\n",
       "        1.25499476e-01, -2.13592629e-01, -1.75400247e-01, -3.05207140e-02,\n",
       "        1.06283853e-01, -5.91454349e-02, -2.24645142e-01,  5.34122105e-01,\n",
       "       -1.52844085e-02, -4.68590942e-01,  9.99323337e-02,  3.41802660e-01,\n",
       "        1.65727096e-01,  2.55901215e-01,  3.77970204e-01,  6.24966272e-01,\n",
       "        4.06729503e-02,  2.14688441e-01, -5.42893837e-01,  3.06114030e-01,\n",
       "       -8.52224914e-01,  1.50525588e-01,  9.95685549e-02,  2.22104055e-01,\n",
       "        6.98245780e-01,  2.18620082e-01, -2.18126054e-01, -7.07112350e-01,\n",
       "        7.73653222e-01, -6.55375243e-01, -2.28043950e-04,  2.50738399e-01,\n",
       "       -1.96353847e-01, -8.36033968e-02, -2.10539586e-01,  5.32399812e-01,\n",
       "       -1.60195973e-01,  6.79128883e-01,  3.17345286e-02, -1.49236302e-01,\n",
       "       -7.21687728e-02,  5.68670302e-01])"
      ]
     },
     "execution_count": 20,
     "metadata": {},
     "output_type": "execute_result"
    }
   ],
   "source": [
    "x_mat_full[y==1,0]"
   ]
  },
  {
   "cell_type": "code",
   "execution_count": 21,
   "metadata": {},
   "outputs": [
    {
     "data": {
      "text/plain": [
       "array([[ 0.99418856, -0.75357092,  1.        ],\n",
       "       [-0.75832505, -0.47211473,  1.        ],\n",
       "       [ 0.62879649, -0.08697439,  1.        ],\n",
       "       ...,\n",
       "       [-0.6942412 , -0.96299794,  1.        ],\n",
       "       [-0.07216877, -0.74667002,  1.        ],\n",
       "       [ 0.5686703 ,  0.08197889,  1.        ]])"
      ]
     },
     "execution_count": 21,
     "metadata": {},
     "output_type": "execute_result"
    }
   ],
   "source": [
    "x_mat_full"
   ]
  },
  {
   "cell_type": "code",
   "execution_count": 22,
   "metadata": {},
   "outputs": [
    {
     "name": "stdout",
     "output_type": "stream",
     "text": [
      "shape of x_mat_full is (500, 3)\n",
      "shape of y is (500,)\n"
     ]
    },
    {
     "data": {
      "text/plain": [
       "(-1.0953120469151658,\n",
       " 1.0978161515865223,\n",
       " -1.0994679808444427,\n",
       " 1.0956723066078156)"
      ]
     },
     "execution_count": 22,
     "metadata": {},
     "output_type": "execute_result"
    },
    {
     "data": {
      "image/png": "[encoded data removed]",
      "text/plain": [
       "<Figure size 864x504 with 1 Axes>"
      ]
     },
     "metadata": {
      "needs_background": "light"
     },
     "output_type": "display_data"
    }
   ],
   "source": [
    "print('shape of x_mat_full is {}'.format(x_mat_full.shape))\n",
    "print('shape of y is {}'.format(y.shape))\n",
    "\n",
    "fig, ax = plt.subplots(figsize=(12,7))\n",
    "ax.plot(x_mat_full[y==1, 0],x_mat_full[y==1, 1], 'ro', label='class 1', color='darkslateblue')\n",
    "ax.plot(x_mat_full[y==0, 0],x_mat_full[y==0, 1], 'bx', label='class 0', color='chocolate')\n",
    "ax.grid(True)\n",
    "ax.legend(loc='best')\n",
    "ax.axis('equal')"
   ]
  },
  {
   "cell_type": "markdown",
   "metadata": {},
   "source": [
    "Here are some helper functions"
   ]
  },
  {
   "cell_type": "code",
   "execution_count": 23,
   "metadata": {},
   "outputs": [],
   "source": [
    "# The sigmoid function\n",
    "def sigmoid(x):\n",
    "    return 1.0 / (1.0 + np.exp(-x))\n",
    "\n",
    "def loss_fn(y_true, y_pred, eps=1e-16):\n",
    "    y_pred = np.maximum(eps, np.minimum((1-eps),y_pred))\n",
    "    return -(np.sum(y_true * np.log(y_pred)) + np.sum((1 - y_true)*np.log(1 - y_pred)))/len(y_true)\n",
    "\n",
    "def forward_pass(W1,W2):\n",
    "    global x_mat\n",
    "    global y\n",
    "    global num_\n",
    "    \n",
    "    # The new predictions 'y_pred'\n",
    "    z_2 = np.dot(x_mat, W_1)\n",
    "    a_2 = sigmoid(z_2)\n",
    "    z_3 = np.dot(a_2, W_2)\n",
    "    y_pred = sigmoid(z_3).reshape((len(x_mat),))\n",
    "    \n",
    "    # Now the gradient\n",
    "    J_z_3_grad = -y + y_pred\n",
    "    J_W_2_grad = np.dot(J_z_3_grad, a_2)\n",
    "    a_2_z_2_grad = sigmoid(z_2)*(1 - sigmoid(z_2))\n",
    "    J_W_1_grad = (np.dot((J_z_3_grad).reshape(-1,1),W_2.reshape(-1,1).T)*a_2_z_2_grad).T.dot(x_mat).T\n",
    "    gradient = (J_W_1_grad, J_W_2_grad)\n",
    "    \n",
    "    return y_pred, gradient\n",
    "\n",
    "def plot_loss_accuracy(loss_vals, accuracies):\n",
    "    fig = plt.figure(figsize=(16,8))\n",
    "    fig.suptitle('Log Loss and Accuracy over iterations')\n",
    "    \n",
    "    ax = fig.add_subplot(1,2,1)\n",
    "    ax.plot(loss_vals)\n",
    "    ax.grid(True)\n",
    "    ax.set(xlabel='iterations',title='Log loss')\n",
    "    \n",
    "    ax = fig.add_subplot(1,2,2)\n",
    "    ax.plot(accuracies)\n",
    "    ax.grid(True)\n",
    "    ax.set(xlabel='iterations',title='Accuracy')"
   ]
  },
  {
   "cell_type": "code",
   "execution_count": 24,
   "metadata": {},
   "outputs": [],
   "source": [
    "# @tesT16%maK \n",
    "# (500*3) -> (3*4) -> (4*3)\n",
    "row_col = x_mat_full.shape[1]+1"
   ]
  },
  {
   "cell_type": "code",
   "execution_count": 26,
   "metadata": {},
   "outputs": [],
   "source": [
    "np.random.seed(1241)\n",
    "\n",
    "W_1 = np.random.uniform(1,-1,size=(3, row_col))\n",
    "W_2 = np.random.uniform(1,-1,size=(row_col, 3))\n",
    "num_iter = 1000\n",
    "learning_rate = 0.001 \n",
    "x_mat = x_mat_full"
   ]
  },
  {
   "cell_type": "markdown",
   "metadata": {
    "collapsed": true
   },
   "source": [
    "Complete the pseudocode below"
   ]
  },
  {
   "cell_type": "code",
   "execution_count": 29,
   "metadata": {},
   "outputs": [
    {
     "data": {
      "text/plain": [
       "array([[-0.59816793, -0.15310023,  0.10252296,  1.38424214],\n",
       "       [ 0.9671824 , -1.44926405, -1.22103988,  0.43914186],\n",
       "       [-0.65405287, -0.37047225, -0.161745  ,  0.93294601],\n",
       "       ...,\n",
       "       [ 1.21213661, -1.44366659, -1.18188271,  0.67469775],\n",
       "       [ 0.45765308, -0.95607591, -0.70598982,  0.87791298],\n",
       "       [-0.70051333, -0.40108699, -0.20409138,  0.83389861]])"
      ]
     },
     "execution_count": 29,
     "metadata": {},
     "output_type": "execute_result"
    }
   ],
   "source": [
    "np.dot(x_mat_full, W_1)"
   ]
  },
  {
   "cell_type": "code",
   "execution_count": 31,
   "metadata": {},
   "outputs": [
    {
     "ename": "TypeError",
     "evalue": "forward_pass() missing 2 required positional arguments: 'W1' and 'W2'",
     "output_type": "error",
     "traceback": [
      "\u001b[0;31m---------------------------------------------------------------------------\u001b[0m",
      "\u001b[0;31mTypeError\u001b[0m                                 Traceback (most recent call last)",
      "\u001b[0;32m<ipython-input-31-6ef7c359a2f2>\u001b[0m in \u001b[0;36m<module>\u001b[0;34m\u001b[0m\n\u001b[0;32m----> 1\u001b[0;31m \u001b[0mforward_pass\u001b[0m\u001b[0;34m(\u001b[0m\u001b[0;34m)\u001b[0m\u001b[0;34m\u001b[0m\u001b[0;34m\u001b[0m\u001b[0m\n\u001b[0m",
      "\u001b[0;31mTypeError\u001b[0m: forward_pass() missing 2 required positional arguments: 'W1' and 'W2'"
     ]
    }
   ],
   "source": [
    "forward_pass()"
   ]
  },
  {
   "cell_type": "code",
   "execution_count": null,
   "metadata": {
    "collapsed": true
   },
   "outputs": [],
   "source": [
    "#### Initialize the network parameters\n",
    "\n",
    "np.random.seed(1241)\n",
    "\n",
    "W_1 = np.random(1,-1,size=(3, row_col))\n",
    "W_2 = np.random(1,-1,size=(row_col, 3))\n",
    "num_iter = 1000\n",
    "learning_rate = 0.001 \n",
    "x_mat = x_mat_full\n",
    "\n",
    "\n",
    "loss_vals, accuracies = [], []\n",
    "for i in range(num_iter):\n",
    "    ### Do a forward computation, and get the gradient\n",
    "    \n",
    "    \n",
    "    ## Update the weight matrices\n",
    "    \n",
    "    ### Compute the loss and accuracy\n",
    "\n",
    "    ## Print the loss and accuracy for every 200th iteration\n",
    "    \n",
    "plot_loss_accuracy(loss_vals, accuracies)"
   ]
  },
  {
   "cell_type": "code",
   "execution_count": null,
   "metadata": {
    "collapsed": true
   },
   "outputs": [],
   "source": [
    "#### Plot the predicted answers with mistakes in yellow"
   ]
  },
  {
   "cell_type": "code",
   "execution_count": null,
   "metadata": {
    "collapsed": true
   },
   "outputs": [],
   "source": []
  },
  {
   "cell_type": "code",
   "execution_count": null,
   "metadata": {
    "collapsed": true
   },
   "outputs": [],
   "source": []
  }
 ],
 "metadata": {
  "kernelspec": {
   "display_name": "Python 3",
   "language": "python",
   "name": "python3"
  },
  "language_info": {
   "codemirror_mode": {
    "name": "ipython",
    "version": 3
   },
   "file_extension": ".py",
   "mimetype": "text/x-python",
   "name": "python",
   "nbconvert_exporter": "python",
   "pygments_lexer": "ipython3",
   "version": "3.7.1"
  }
 },
 "nbformat": 4,
 "nbformat_minor": 1
}
